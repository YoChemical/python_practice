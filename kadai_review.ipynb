{
 "cells": [
  {
   "cell_type": "markdown",
   "metadata": {},
   "source": [
    "課題1\n",
    "\n",
    "数値a, b, cと文字列sを引数として受け取り、a×b+cの値とsを並べて出力する関数を実装せよ\n",
    "\n",
    "a = 1, b = 2, c = 3, s = 'test'  → ‘5 test’\n",
    "\n",
    "a = 72, b = 3, c = 56, s = 'myonmyon'  → ‘272 myonmyon’\n"
   ]
  },
  {
   "cell_type": "code",
   "execution_count": 14,
   "metadata": {},
   "outputs": [
    {
     "data": {
      "text/plain": [
       "'5 test'"
      ]
     },
     "execution_count": 14,
     "metadata": {},
     "output_type": "execute_result"
    }
   ],
   "source": [
    "# 解答１　関数を定義して結果を表示\n",
    "def culc(a,b,c,s):\n",
    "    result = str(a*b+c)+' '+ s\n",
    "    return(result)\n",
    "\n",
    "culc(1,2,3,'test')"
   ]
  },
  {
   "cell_type": "code",
   "execution_count": 18,
   "metadata": {},
   "outputs": [
    {
     "name": "stdout",
     "output_type": "stream",
     "text": [
      "10\n"
     ]
    }
   ],
   "source": []
  },
  {
   "cell_type": "markdown",
   "metadata": {},
   "source": [
    "課題2\n",
    "\n",
    " 整数のa, bを受けとって、aとbの積が奇数なら「Odd」、偶数なら「Even」と出力する関数を実装せよ\n",
    " \n",
    " a = 3, b = 4 → ‘Even’\n",
    " \n",
    " a = 1, b = 21 → ‘Odd'"
   ]
  },
  {
   "cell_type": "code",
   "execution_count": 24,
   "metadata": {},
   "outputs": [
    {
     "name": "stdout",
     "output_type": "stream",
     "text": [
      "Odd\n"
     ]
    }
   ],
   "source": [
    "# 解答１　if文を使用して条件分岐させる\n",
    "def mod(a,b):\n",
    "    culc = a*b\n",
    "    if culc%2 == 0:\n",
    "        return(print('Even'))\n",
    "    else:\n",
    "        return(print('Odd'))\n",
    "\n",
    "mod(26693,1)"
   ]
  },
  {
   "cell_type": "markdown",
   "metadata": {},
   "source": [
    "課題3\n",
    "\n",
    "'0'か'1'が連続する文字列sを受け取って、1の数を返す関数を実装せよ\n",
    "\n",
    "s = '101' → 2\n",
    "\n",
    "s = '000' → 0\n",
    "\n",
    "s = '0111001‘ →  4\n"
   ]
  },
  {
   "cell_type": "code",
   "execution_count": 4,
   "metadata": {},
   "outputs": [
    {
     "data": {
      "text/plain": [
       "9"
      ]
     },
     "execution_count": 4,
     "metadata": {},
     "output_type": "execute_result"
    }
   ],
   "source": [
    "s = '001110101001010010001'\n",
    "def counts(s):\n",
    "    count_s = s.count('1')\n",
    "    return(count_s)\n",
    "counts(s)\n",
    "\n",
    "# https://hibiki-press.tech/learn_prog/python/count/103"
   ]
  },
  {
   "cell_type": "markdown",
   "metadata": {},
   "source": [
    "課題4\n",
    "\n",
    "整数nを受け取って、階乗(1×2×3×...×(n-1)×n)を返す関数を実装せよ\n",
    "\n",
    "n = 5 → 120 (=1×2×3×4×5)\n",
    "\n",
    "n = 10 → 3628800\n"
   ]
  },
  {
   "cell_type": "code",
   "execution_count": 32,
   "metadata": {},
   "outputs": [
    {
     "data": {
      "text/plain": [
       "120"
      ]
     },
     "execution_count": 32,
     "metadata": {},
     "output_type": "execute_result"
    }
   ],
   "source": [
    "def culc(n):\n",
    "    if n == 1:\n",
    "        return n\n",
    "    return n * culc(n-1)\n",
    "culc(5)\n",
    "# https://qiita.com/y-shiozaki/items/e295f7d6a56c982a6801"
   ]
  },
  {
   "cell_type": "code",
   "execution_count": 33,
   "metadata": {},
   "outputs": [
    {
     "name": "stdout",
     "output_type": "stream",
     "text": [
      "120\n"
     ]
    }
   ],
   "source": [
    "# 別解　mathモジュールを使用\n",
    "def culc(n):\n",
    "    import math\n",
    "    print(math.factorial(n))\n",
    "\n",
    "culc(5)\n",
    "\n",
    "# https://note.nkmk.me/python-math-factorial-permutations-combinations/"
   ]
  },
  {
   "cell_type": "markdown",
   "metadata": {},
   "source": [
    "課題5\n",
    "\n",
    "フィボナッチ級数の1項目からn項目までの値のリストを返す関数を実装せよ\n",
    "\n",
    "n = 5 → [1, 1, 2, 3, 5]\n",
    "\n",
    "n = 10 → [1, 1, 2, 3, 5, 8, 13, 21, 34, 55]\n"
   ]
  },
  {
   "cell_type": "code",
   "execution_count": 5,
   "metadata": {},
   "outputs": [],
   "source": [
    "# https://qiita.com/miler0528/items/32ee3317b840873301b9"
   ]
  },
  {
   "cell_type": "markdown",
   "metadata": {},
   "source": [
    "課題6\n",
    "\n",
    "2桁の整数nを受け取り、10の位を英語表記にし、1の位の回数繰り返し表示する関数を実装せよ\n",
    "\n",
    "ヒント：pythonの変数は型変換することができる\n",
    "\n",
    "n= 92 → ‘nine nine ’\n",
    "\n",
    "n = 14 → ‘one one one one’\n"
   ]
  },
  {
   "cell_type": "code",
   "execution_count": null,
   "metadata": {},
   "outputs": [],
   "source": []
  },
  {
   "cell_type": "markdown",
   "metadata": {},
   "source": [
    "課題7\n",
    "\n",
    "2つのリストを受け取り、和集合と共通集合を返す関数を実装せよ\n",
    "\n",
    "ヒント：集合型を使うのが簡単\n",
    "\n",
    "[1, 2, 3, 4, 5], [1, 3, 5, 7, 9] → [1, 2, 3, 4, 5, 7, 9], [1, 3, 5]\n"
   ]
  },
  {
   "cell_type": "code",
   "execution_count": null,
   "metadata": {},
   "outputs": [],
   "source": []
  },
  {
   "cell_type": "markdown",
   "metadata": {},
   "source": [
    "課題8\n",
    "\n",
    "2つのリストを受け取り、Jaccard係数を返す関数を実装せよ\n",
    "\n",
    "[1, 2, 3, 4, 5], [1, 3, 5, 7, 9] → 3/7\n"
   ]
  },
  {
   "cell_type": "code",
   "execution_count": null,
   "metadata": {},
   "outputs": [],
   "source": [
    "# https://qiita.com/pontyo4/items/d0910514e1b9f46c1c98"
   ]
  },
  {
   "cell_type": "markdown",
   "metadata": {},
   "source": [
    "課題9\n",
    "\n",
    "pythonの繰り返し処理には、for文の他にwhile文が存在する\n",
    "\n",
    "課題4の関数について、for文による実装とwhile文による実装を行え\n"
   ]
  },
  {
   "cell_type": "code",
   "execution_count": null,
   "metadata": {},
   "outputs": [],
   "source": []
  },
  {
   "cell_type": "markdown",
   "metadata": {},
   "source": [
    "課題10\n",
    "\n",
    "以下のように、リストxを別の変数yに代入した後、yを操作すると、xの値も変わる\n",
    "\n",
    "参照渡しについて調査、まとめる\n",
    "\n",
    "これを防ぐ方法とは"
   ]
  },
  {
   "cell_type": "code",
   "execution_count": null,
   "metadata": {},
   "outputs": [],
   "source": []
  },
  {
   "cell_type": "markdown",
   "metadata": {},
   "source": [
    "課題11\n",
    "\n",
    "pythonのfloatを使った演算は、厳密な結果にはならない\n",
    "\n",
    "浮動小数点数の誤差の観点から調査、まとめる"
   ]
  },
  {
   "cell_type": "markdown",
   "metadata": {},
   "source": [
    "【解答】\n",
    "\n",
    "結論：正しく2進数に変換できていないから\n",
    "\n",
    "10進数を2進数に変換すると割り切れない循環小数が存在する。\n",
    "\n",
    "そのため、一定の桁で切りあげを行うためごさが発生する。"
   ]
  },
  {
   "cell_type": "markdown",
   "metadata": {},
   "source": [
    "課題12\n",
    "\n",
    "日付形式の文字列と整数を受け取り、日付からn日後までのリストを返す関数を作成せよ\n",
    "\n",
    "ヒント：datetimeモジュールを使うと良い\n",
    "\n",
    "‘20200227’, 5 → [‘20200227’, ‘20200228’, ‘20200301’, ‘20200302’, ‘20200303’]\n"
   ]
  },
  {
   "cell_type": "code",
   "execution_count": null,
   "metadata": {},
   "outputs": [],
   "source": []
  },
  {
   "cell_type": "markdown",
   "metadata": {},
   "source": [
    "課題13\n",
    "\n",
    "2つの日付形式の文字列を受け取り、その2つの日付の間の日付のリストを返す関数を作成せよ\n",
    "\n",
    "‘20200227’, ‘20200303’ → [‘20200227’, ‘20200228’, ‘20200301’, ‘20200302’, ‘20200303’]\n"
   ]
  },
  {
   "cell_type": "code",
   "execution_count": null,
   "metadata": {},
   "outputs": [],
   "source": []
  },
  {
   "cell_type": "markdown",
   "metadata": {},
   "source": [
    "課題14\n",
    "\n",
    "2020年において、1月から12月まで、各月に平日がいくつあるか集計せよ\n"
   ]
  },
  {
   "cell_type": "code",
   "execution_count": null,
   "metadata": {},
   "outputs": [],
   "source": []
  },
  {
   "cell_type": "markdown",
   "metadata": {},
   "source": [
    "課題15\n",
    "\n",
    "Alice in Wonderlandを読み、以下の手順で処理を行え\n",
    "\n",
    "テキストは、 http://www.gutenberg.org/files/11/11-0.txt からダウンロードする\n",
    "\n",
    "１全テキストを読み込み、各文を単語に分割せよ\n",
    "\n",
    "ヒント：単語は、空白で区切られた文字列とする。なお、改行文字列に注意する。\n",
    "\n",
    "２各英単語は大文字も含む場合があるので、各単語を小文字化せよ\n",
    "\n",
    "３辞書型を使用し、単語の出現頻度を集計せよ\n",
    "\n",
    "４何種類の単語が出現しているか、aliceが何回出現しているかそれぞれ出力せよ\n",
    "\n",
    "５集計結果を‘単語,件数’の形式で、csvファイルとして出力せよ\n"
   ]
  },
  {
   "cell_type": "code",
   "execution_count": null,
   "metadata": {},
   "outputs": [],
   "source": []
  },
  {
   "cell_type": "markdown",
   "metadata": {},
   "source": [
    "課題16\n",
    "以下の手順で5×５マスのビンゴシミュレーションを行え\n",
    "\n",
    "１numpyモジュールを使って、5×5の零行列を作成せよ\n",
    "\n",
    "２randomモジュールを使って、ビンゴのマスの中からランダムで埋める処理を実装せよ\n",
    "\n",
    "３行列の各行、各列を確認し、ビンゴ状態を確認できるようにせよ\n",
    "簡単のため、斜めの判定はしなくても良い\n",
    "\n",
    "４上記2番、3番の処理を繰り返し、ビンゴ時の回数を出力せよ\n",
    "マスを埋める際、重複したマスが出た場合、カウントしないことに注意\n",
    "\n",
    "５4番の処理を何回か繰り返し、ビンゴになる回数でヒストグラムを作成せよ\n",
    "matplotlibモジュールを使うのがおすすめ\n"
   ]
  },
  {
   "cell_type": "code",
   "execution_count": null,
   "metadata": {},
   "outputs": [],
   "source": []
  },
  {
   "cell_type": "markdown",
   "metadata": {},
   "source": [
    "応用課題\n",
    "\n",
    "課題A\n",
    "\n",
    "任意の値をもつリストに対して、標準化を行う関数を実装せよ\n",
    "\n",
    "ヒント：標準化とは、各値に対して、「(値-平均値)/標準偏差」の処理を行うこと\n",
    "\n",
    "課題B\n",
    "\n",
    "平均50, 標準偏差10に従う分布のデータに対して、\n",
    "\n",
    "    x以上の値が全体の何％なのか、n回乱数を生成するシミュレーションで求める関数を実装せよ\n",
    "\n",
    "課題C\n",
    "\n",
    "Alice in wonderlandの集計結果を使って、単語の出現頻度を基に、パレート図を作成せよ\n"
   ]
  },
  {
   "cell_type": "code",
   "execution_count": null,
   "metadata": {},
   "outputs": [],
   "source": []
  }
 ],
 "metadata": {
  "kernelspec": {
   "display_name": "Python 3",
   "language": "python",
   "name": "python3"
  },
  "language_info": {
   "codemirror_mode": {
    "name": "ipython",
    "version": 3
   },
   "file_extension": ".py",
   "mimetype": "text/x-python",
   "name": "python",
   "nbconvert_exporter": "python",
   "pygments_lexer": "ipython3",
   "version": "3.7.3"
  }
 },
 "nbformat": 4,
 "nbformat_minor": 2
}
