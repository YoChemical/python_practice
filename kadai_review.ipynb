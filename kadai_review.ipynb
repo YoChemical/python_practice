{
 "cells": [
  {
   "cell_type": "code",
   "execution_count": null,
   "metadata": {},
   "outputs": [],
   "source": [
    "課題1\n",
    "数値a, b, cと文字列sを引数として受け取り、a×b+cの値とsを並べて出力する関数を実装せよ\n",
    "a = 1, b = 2, c = 3, s = 'test'  → ‘5 test’\n",
    "a = 72, b = 3, c = 56, s = 'myonmyon'  → ‘272 myonmyon’\n"
   ]
  },
  {
   "cell_type": "code",
   "execution_count": null,
   "metadata": {},
   "outputs": [],
   "source": [
    "課題2\n",
    " 整数のa, bを受けとって、aとbの積が奇数なら「Odd」、偶数なら「Even」と出力する関数を実装せよ\n",
    "a = 3, b = 4 → ‘Even’\n",
    "a = 1, b = 21 → ‘Odd'"
   ]
  },
  {
   "cell_type": "code",
   "execution_count": null,
   "metadata": {},
   "outputs": [],
   "source": [
    "課題3\n",
    "'0'か'1'が連続する文字列sを受け取って、1の数を返す関数を実装せよ\n",
    "s = '101' → 2\n",
    "s = '000' → 0\n",
    "s = '0111001‘ →  4\n"
   ]
  },
  {
   "cell_type": "code",
   "execution_count": null,
   "metadata": {},
   "outputs": [],
   "source": [
    "課題4\n",
    "整数nを受け取って、階乗(1×2×3×...×(n-1)×n)を返す関数を実装せよ\n",
    "n = 5 → 120 (=1×2×3×4×5)\n",
    "n = 10 → 3628800\n"
   ]
  },
  {
   "cell_type": "code",
   "execution_count": null,
   "metadata": {},
   "outputs": [],
   "source": [
    "課題5\n",
    "フィボナッチ級数の1項目からn項目までの値のリストを返す関数を実装せよ\n",
    "n = 5 → [1, 1, 2, 3, 5]\n",
    "n = 10 → [1, 1, 2, 3, 5, 8, 13, 21, 34, 55]\n"
   ]
  },
  {
   "cell_type": "code",
   "execution_count": null,
   "metadata": {},
   "outputs": [],
   "source": [
    "課題6\n",
    "2桁の整数nを受け取り、10の位を英語表記にし、1の位の回数繰り返し表示する関数を実装せよ\n",
    "ヒント：pythonの変数は型変換することができる\n",
    "n= 92 → ‘nine nine ’\n",
    "n = 14 → ‘one one one one’\n"
   ]
  },
  {
   "cell_type": "code",
   "execution_count": null,
   "metadata": {},
   "outputs": [],
   "source": [
    "課題7\n",
    "2つのリストを受け取り、和集合と共通集合を返す関数を実装せよ\n",
    "ヒント：集合型を使うのが簡単\n",
    "[1, 2, 3, 4, 5], [1, 3, 5, 7, 9] → [1, 2, 3, 4, 5, 7, 9], [1, 3, 5]\n"
   ]
  },
  {
   "cell_type": "code",
   "execution_count": null,
   "metadata": {},
   "outputs": [],
   "source": [
    "課題8\n",
    "2つのリストを受け取り、Jaccard係数を返す関数を実装せよ\n",
    "[1, 2, 3, 4, 5], [1, 3, 5, 7, 9] → 3/7\n"
   ]
  },
  {
   "cell_type": "code",
   "execution_count": null,
   "metadata": {},
   "outputs": [],
   "source": [
    "課題9\n",
    "pythonの繰り返し処理には、for文の他にwhile文が存在する\n",
    "課題4の関数について、for文による実装とwhile文による実装を行え\n"
   ]
  },
  {
   "cell_type": "code",
   "execution_count": null,
   "metadata": {},
   "outputs": [],
   "source": [
    "課題10\n",
    "以下のように、リストxを別の変数yに代入した後、yを操作すると、xの値も変わる\n",
    "\n",
    "参照渡しについて調査、まとめる\n",
    "これを防ぐ方法とは"
   ]
  },
  {
   "cell_type": "code",
   "execution_count": null,
   "metadata": {},
   "outputs": [],
   "source": [
    "課題11\n",
    "pythonのfloatを使った演算は、厳密な結果にはならない\n",
    "\n",
    "浮動小数点数の誤差の観点から調査、まとめる"
   ]
  },
  {
   "cell_type": "code",
   "execution_count": null,
   "metadata": {},
   "outputs": [],
   "source": [
    "課題12\n",
    "日付形式の文字列と整数を受け取り、日付からn日後までのリストを返す関数を作成せよ\n",
    "ヒント：datetimeモジュールを使うと良い\n",
    "‘20200227’, 5 → [‘20200227’, ‘20200228’, ‘20200301’, ‘20200302’, ‘20200303’]\n"
   ]
  },
  {
   "cell_type": "code",
   "execution_count": null,
   "metadata": {},
   "outputs": [],
   "source": [
    "課題13\n",
    "2つの日付形式の文字列を受け取り、その2つの日付の間の日付のリストを返す関数を作成せよ\n",
    "‘20200227’, ‘20200303’ → [‘20200227’, ‘20200228’, ‘20200301’, ‘20200302’, ‘20200303’]\n"
   ]
  },
  {
   "cell_type": "code",
   "execution_count": null,
   "metadata": {},
   "outputs": [],
   "source": [
    "課題14\n",
    "2020年において、1月から12月まで、各月に平日がいくつあるか集計せよ\n"
   ]
  },
  {
   "cell_type": "code",
   "execution_count": null,
   "metadata": {},
   "outputs": [],
   "source": [
    "課題15\n",
    "Alice in Wonderlandを読み、以下の手順で処理を行え\n",
    "テキストは、 http://www.gutenberg.org/files/11/11-0.txt からダウンロードする\n",
    "\n",
    "１全テキストを読み込み、各文を単語に分割せよ\n",
    "ヒント：単語は、空白で区切られた文字列とする。なお、改行文字列に注意する。\n",
    "\n",
    "２各英単語は大文字も含む場合があるので、各単語を小文字化せよ\n",
    "\n",
    "３辞書型を使用し、単語の出現頻度を集計せよ\n",
    "\n",
    "４何種類の単語が出現しているか、aliceが何回出現しているかそれぞれ出力せよ\n",
    "\n",
    "５集計結果を‘単語,件数’の形式で、csvファイルとして出力せよ\n"
   ]
  },
  {
   "cell_type": "code",
   "execution_count": null,
   "metadata": {},
   "outputs": [],
   "source": [
    "課題16\n",
    "以下の手順で5×５マスのビンゴシミュレーションを行え\n",
    "\n",
    "１numpyモジュールを使って、5×5の零行列を作成せよ\n",
    "\n",
    "２randomモジュールを使って、ビンゴのマスの中からランダムで埋める処理を実装せよ\n",
    "\n",
    "３行列の各行、各列を確認し、ビンゴ状態を確認できるようにせよ\n",
    "簡単のため、斜めの判定はしなくても良い\n",
    "\n",
    "４上記2番、3番の処理を繰り返し、ビンゴ時の回数を出力せよ\n",
    "マスを埋める際、重複したマスが出た場合、カウントしないことに注意\n",
    "\n",
    "５4番の処理を何回か繰り返し、ビンゴになる回数でヒストグラムを作成せよ\n",
    "matplotlibモジュールを使うのがおすすめ\n"
   ]
  },
  {
   "cell_type": "code",
   "execution_count": null,
   "metadata": {},
   "outputs": [],
   "source": [
    "応用課題\n",
    "課題A\n",
    "任意の値をもつリストに対して、標準化を行う関数を実装せよ\n",
    "ヒント：標準化とは、各値に対して、「(値-平均値)/標準偏差」の処理を行うこと\n",
    "\n",
    "課題B\n",
    "平均50, 標準偏差10に従う分布のデータに対して、\n",
    "　x以上の値が全体の何％なのか、n回乱数を生成するシミュレーションで求める関数を実装せよ\n",
    "\n",
    "課題C\n",
    "Alice in wonderlandの集計結果を使って、単語の出現頻度を基に、パレート図を作成せよ\n"
   ]
  },
  {
   "cell_type": "code",
   "execution_count": null,
   "metadata": {},
   "outputs": [],
   "source": []
  },
  {
   "cell_type": "code",
   "execution_count": null,
   "metadata": {},
   "outputs": [],
   "source": []
  },
  {
   "cell_type": "code",
   "execution_count": null,
   "metadata": {},
   "outputs": [],
   "source": []
  },
  {
   "cell_type": "code",
   "execution_count": null,
   "metadata": {},
   "outputs": [],
   "source": []
  }
 ],
 "metadata": {
  "kernelspec": {
   "display_name": "Python 3",
   "language": "python",
   "name": "python3"
  },
  "language_info": {
   "codemirror_mode": {
    "name": "ipython",
    "version": 3
   },
   "file_extension": ".py",
   "mimetype": "text/x-python",
   "name": "python",
   "nbconvert_exporter": "python",
   "pygments_lexer": "ipython3",
   "version": "3.7.3"
  }
 },
 "nbformat": 4,
 "nbformat_minor": 2
}
